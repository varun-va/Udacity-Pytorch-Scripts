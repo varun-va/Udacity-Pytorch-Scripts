{
 "cells": [
  {
   "cell_type": "markdown",
   "metadata": {},
   "source": [
    "**Exercise**: \n",
    "\n",
    "Create a network with \n",
    "\n",
    "    784 input units, \n",
    "\n",
    "    a hidden layer with 128 units and a ReLU activation, \n",
    "    \n",
    "    then a hidden layer with 64 units and a ReLU activation, \n",
    "    \n",
    "    and finally an output layer with a softmax activation as shown above. \n",
    "\n",
    "You can use a ReLU activation with the **nn.ReLU** module or **F.relu** function."
   ]
  },
  {
   "cell_type": "code",
   "execution_count": 27,
   "metadata": {},
   "outputs": [],
   "source": [
    "\n",
    "\n",
    "%matplotlib inline\n",
    "%config InlineBackend.figure_format = 'retina'\n",
    "\n",
    "import numpy as np\n",
    "from torch import nn\n",
    "import torch.nn.functional as F\n",
    "#import torch\n",
    "import matplotlib.pyplot as plt\n",
    "\n",
    "import helper"
   ]
  },
  {
   "cell_type": "code",
   "execution_count": 28,
   "metadata": {},
   "outputs": [],
   "source": [
    "from torchvision import datasets, transforms"
   ]
  },
  {
   "cell_type": "code",
   "execution_count": 29,
   "metadata": {},
   "outputs": [],
   "source": [
    "#define a transform to normalize the data\n",
    "transform = transforms.Compose([transforms.ToTensor(),\n",
    "                           transforms.Normalize((0.5, 0.5,0.5),\n",
    "                                               (0.5, 0.5, 0.5))\n",
    "                           ])\n",
    "#download the training set data\n",
    "trainset = datasets.MNIST('MNIST_data/', download=True, train=True, transform=transform)\n",
    "trainloader = torch.utils.data.DataLoader(trainset,batch_size=64, shuffle=True)"
   ]
  },
  {
   "cell_type": "code",
   "execution_count": 30,
   "metadata": {},
   "outputs": [
    {
     "data": {
      "text/plain": [
       "Network(\n",
       "  (fc1): Linear(in_features=784, out_features=128, bias=True)\n",
       "  (fc2): Linear(in_features=128, out_features=64, bias=True)\n",
       "  (fc3): Linear(in_features=64, out_features=10, bias=True)\n",
       ")"
      ]
     },
     "execution_count": 30,
     "metadata": {},
     "output_type": "execute_result"
    }
   ],
   "source": [
    "class Network(nn.Module):\n",
    "    def __init__(self):\n",
    "        super().__init__()\n",
    "        \n",
    "        self.fc1 = nn.Linear(784,128) #hidden layer 1\n",
    "        self.fc2 = nn.Linear(128,64) #hidden layer 2\n",
    "        self.fc3 = nn.Linear(64,10) #output\n",
    "        \n",
    "    def forward(self,x):\n",
    "        x = self.fc1(x)\n",
    "        x = F.relu(x)\n",
    "        x = self.fc2(x)\n",
    "        x = F.relu(x)\n",
    "        x = self.fc3(x)\n",
    "        x = F.softmax(x, dim = 1)\n",
    "        \n",
    "        return x\n",
    "    \n",
    "model = Network()\n",
    "model"
   ]
  },
  {
   "cell_type": "markdown",
   "metadata": {},
   "source": [
    "Use the above trained network to predict the image from NNIST"
   ]
  },
  {
   "cell_type": "code",
   "execution_count": 31,
   "metadata": {},
   "outputs": [
    {
     "data": {
      "image/png": "[encoded data removed]",
      "text/plain": [
       "<Figure size 432x648 with 2 Axes>"
      ]
     },
     "metadata": {
      "image/png": {
       "height": 226,
       "width": 423
      },
      "needs_background": "light"
     },
     "output_type": "display_data"
    }
   ],
   "source": [
    "dataiter = iter(trainloader)\n",
    "images, labels = dataiter.next()\n",
    "\n",
    "#Resize the images into 1D vector,new shape is (batch size, color channels, image pixels)\n",
    "images.resize_(64, 1,784)\n",
    "# or images.resize_(images.shape[0], 1, 784) to automatically get batch size\n",
    "\n",
    "#forward pass\n",
    "img_idx = 0\n",
    "ps = model.forward(images[img_idx,:1])\n",
    "\n",
    "img = images[img_idx]\n",
    "helper.view_classify(img.view(1,28,28),ps)"
   ]
  },
  {
   "cell_type": "code",
   "execution_count": 32,
   "metadata": {},
   "outputs": [
    {
     "data": {
      "text/plain": [
       "tensor([[0.0892, 0.1060, 0.1162, 0.0832, 0.1059, 0.1053, 0.0950, 0.0931, 0.1042,\n",
       "         0.1019]], grad_fn=<SoftmaxBackward>)"
      ]
     },
     "execution_count": 32,
     "metadata": {},
     "output_type": "execute_result"
    }
   ],
   "source": [
    "ps"
   ]
  },
  {
   "cell_type": "markdown",
   "metadata": {},
   "source": [
    "use nn.Sequential to pass tensors which will do the forward function"
   ]
  },
  {
   "cell_type": "code",
   "execution_count": 56,
   "metadata": {},
   "outputs": [
    {
     "name": "stdout",
     "output_type": "stream",
     "text": [
      "Sequential(\n",
      "  (0): Linear(in_features=784, out_features=128, bias=True)\n",
      "  (1): ReLU()\n",
      "  (2): Linear(in_features=128, out_features=64, bias=True)\n",
      "  (3): ReLU()\n",
      "  (4): Linear(in_features=64, out_features=10, bias=True)\n",
      "  (5): Softmax()\n",
      ")\n"
     ]
    },
    {
     "data": {
      "image/png": "[encoded data removed]",
      "text/plain": [
       "<Figure size 432x648 with 2 Axes>"
      ]
     },
     "metadata": {
      "image/png": {
       "height": 226,
       "width": 423
      },
      "needs_background": "light"
     },
     "output_type": "display_data"
    }
   ],
   "source": [
    "input_size = 784\n",
    "hidden_size = [128,64]\n",
    "output_size = 10\n",
    "\n",
    "#feed-forward network\n",
    "\n",
    "model = nn.Sequential(nn.Linear(input_size,hidden_size[0]),\n",
    "                     nn.ReLU(),\n",
    "                     nn.Linear(hidden_size[0],hidden_size[1]),\n",
    "                     nn.ReLU(),\n",
    "                     nn.Linear(hidden_size[1],output_size),\n",
    "                     nn.Softmax(dim =1)\n",
    "                     )\n",
    "\n",
    "print(model)\n",
    "\n",
    "#forward pass through model\n",
    "\n",
    "images,labels = next(iter(trainloader))\n",
    "images.resize_(images.shape[0],1,784)\n",
    "ps = model.forward(images[0,:])\n",
    "helper.view_classify(images[0].view(1,28,28),ps)"
   ]
  },
  {
   "cell_type": "markdown",
   "metadata": {},
   "source": [
    "Calculate loss using **nn.CrossEntropyLoss()**"
   ]
  },
  {
   "cell_type": "code",
   "execution_count": 43,
   "metadata": {},
   "outputs": [
    {
     "name": "stdout",
     "output_type": "stream",
     "text": [
      "tensor(2.3469, grad_fn=<NllLossBackward>)\n"
     ]
    }
   ],
   "source": [
    "model = nn.Sequential(nn.Linear(784,128)\n",
    "                      ,nn.ReLU()\n",
    "                      ,nn.Linear(128,64)\n",
    "                      ,nn.ReLU()\n",
    "                      ,nn.Linear(64,10)\n",
    "                     )\n",
    "#print(model)\n",
    "\n",
    "#Define loss\n",
    "criterion = nn.CrossEntropyLoss()\n",
    "#print(criterion)\n",
    "\n",
    "#Get our data\n",
    "images, labels = next(iter(trainloader))\n",
    "#flatten images\n",
    "images = images.view(images.shape[0],-1)\n",
    "\n",
    "#forward pass and get the loss\n",
    "logits = model(images)\n",
    "#print(logits)\n",
    "\n",
    "#calculate loss with CrossEntropyLoss\n",
    "loss = criterion(logits,labels)\n",
    "print(loss)"
   ]
  },
  {
   "cell_type": "markdown",
   "metadata": {},
   "source": [
    "it's more convenient to build the model with a log-softmax output using nn.LogSoftmax or F.log_softmax (documentation). Then you can get the actual probabilites by taking the exponential torch.exp(output). With a log-softmax output, you want to use the negative log likelihood loss, nn.NLLLoss (documentation).\n"
   ]
  },
  {
   "cell_type": "markdown",
   "metadata": {},
   "source": [
    "**Exercise**: \n",
    "\n",
    "Build a model that returns the log-softmax as the output and calculate the loss using the negative log likelihood loss."
   ]
  },
  {
   "cell_type": "code",
   "execution_count": 45,
   "metadata": {},
   "outputs": [
    {
     "name": "stdout",
     "output_type": "stream",
     "text": [
      "Sequential(\n",
      "  (0): Linear(in_features=784, out_features=128, bias=True)\n",
      "  (1): ReLU()\n",
      "  (2): Linear(in_features=128, out_features=64, bias=True)\n",
      "  (3): ReLU()\n",
      "  (4): Linear(in_features=64, out_features=10, bias=True)\n",
      "  (5): LogSoftmax()\n",
      ")\n",
      "tensor(2.3163, grad_fn=<NllLossBackward>)\n"
     ]
    }
   ],
   "source": [
    "#Solution\n",
    "\n",
    "#feed forward network\n",
    "model = nn.Sequential(nn.Linear(784,128)\n",
    "                      ,nn.ReLU()\n",
    "                      ,nn.Linear(128,64)\n",
    "                      ,nn.ReLU()\n",
    "                      ,nn.Linear(64,10)\n",
    "                      ,nn.LogSoftmax(dim=1)\n",
    "                     )\n",
    "print(model)\n",
    "\n",
    "#Define loss\n",
    "criterion = nn.NLLLoss()\n",
    "\n",
    "#Get our data\n",
    "images, labels = next(iter(trainloader))\n",
    "#flatten images\n",
    "images = images.view(images.shape[0],-1)\n",
    "\n",
    "\n",
    "#forward pass, get logits\n",
    "logits = model(images)\n",
    "\n",
    "#calculate loss\n",
    "loss = criterion(logits,labels)\n",
    "print(loss)"
   ]
  },
  {
   "cell_type": "code",
   "execution_count": 46,
   "metadata": {},
   "outputs": [
    {
     "name": "stdout",
     "output_type": "stream",
     "text": [
      "Before backward pass:  None\n",
      "\n",
      "After backward pass:  tensor([[-0.0015, -0.0015, -0.0015,  ..., -0.0015, -0.0015, -0.0015],\n",
      "        [-0.0022, -0.0022, -0.0022,  ..., -0.0022, -0.0022, -0.0022],\n",
      "        [-0.0018, -0.0018, -0.0018,  ..., -0.0018, -0.0018, -0.0018],\n",
      "        ...,\n",
      "        [-0.0014, -0.0014, -0.0014,  ..., -0.0014, -0.0014, -0.0014],\n",
      "        [-0.0005, -0.0005, -0.0005,  ..., -0.0005, -0.0005, -0.0005],\n",
      "        [ 0.0006,  0.0006,  0.0006,  ...,  0.0006,  0.0006,  0.0006]])\n"
     ]
    }
   ],
   "source": [
    "print('Before backward pass: ',model[0].weight.grad)\n",
    "\n",
    "loss.backward()\n",
    "\n",
    "print('\\nAfter backward pass: ',model[0].weight.grad)"
   ]
  },
  {
   "cell_type": "markdown",
   "metadata": {},
   "source": [
    "Using optimizer - optimizer = optim.SGD(model.parameters(),lr= 0.01)\n",
    "\n",
    "optimizer is used to update the weights for training the system"
   ]
  },
  {
   "cell_type": "code",
   "execution_count": 48,
   "metadata": {},
   "outputs": [],
   "source": [
    "from torch import optim\n",
    "\n",
    "optimizer = optim.SGD(model.parameters(),lr = 0.01)"
   ]
  },
  {
   "cell_type": "code",
   "execution_count": 52,
   "metadata": {},
   "outputs": [
    {
     "name": "stdout",
     "output_type": "stream",
     "text": [
      "Initial weights Parameter containing:\n",
      "tensor([[-0.0005, -0.0002,  0.0198,  ..., -0.0166,  0.0132, -0.0129],\n",
      "        [ 0.0112, -0.0240, -0.0142,  ...,  0.0191,  0.0188,  0.0061],\n",
      "        [ 0.0113, -0.0213, -0.0040,  ..., -0.0171, -0.0249,  0.0161],\n",
      "        ...,\n",
      "        [ 0.0232, -0.0196,  0.0273,  ...,  0.0025, -0.0255,  0.0250],\n",
      "        [-0.0142, -0.0167, -0.0047,  ...,  0.0153,  0.0062, -0.0089],\n",
      "        [-0.0236,  0.0151, -0.0324,  ..., -0.0296, -0.0143, -0.0013]],\n",
      "       requires_grad=True)\n",
      "Gradient -  tensor([[ 0.0006,  0.0006,  0.0006,  ...,  0.0006,  0.0006,  0.0006],\n",
      "        [ 0.0014,  0.0014,  0.0014,  ...,  0.0014,  0.0014,  0.0014],\n",
      "        [ 0.0007,  0.0007,  0.0007,  ...,  0.0007,  0.0007,  0.0007],\n",
      "        ...,\n",
      "        [-0.0015, -0.0015, -0.0015,  ..., -0.0015, -0.0015, -0.0015],\n",
      "        [-0.0001, -0.0001, -0.0001,  ..., -0.0001, -0.0001, -0.0001],\n",
      "        [ 0.0003,  0.0003,  0.0003,  ...,  0.0003,  0.0003,  0.0003]])\n"
     ]
    }
   ],
   "source": [
    "print('Initial weights', model[0].weight)\n",
    "\n",
    "images, labels = next(iter(trainloader))\n",
    "images.resize_(64,784)\n",
    "\n",
    "#clear gradients\n",
    "optimizer.zero_grad()\n",
    "\n",
    "#forward pass, backward pass, then update weight with optimizer\n",
    "\n",
    "output = model.forward(images)\n",
    "loss = criterion(output,labels)\n",
    "loss.backward()\n",
    "print('Gradient - ',model[0].weight.grad)"
   ]
  },
  {
   "cell_type": "code",
   "execution_count": 53,
   "metadata": {},
   "outputs": [
    {
     "name": "stdout",
     "output_type": "stream",
     "text": [
      "Updated weights -  Parameter containing:\n",
      "tensor([[-0.0005, -0.0002,  0.0198,  ..., -0.0166,  0.0132, -0.0129],\n",
      "        [ 0.0112, -0.0240, -0.0143,  ...,  0.0191,  0.0188,  0.0061],\n",
      "        [ 0.0113, -0.0213, -0.0040,  ..., -0.0172, -0.0249,  0.0161],\n",
      "        ...,\n",
      "        [ 0.0232, -0.0196,  0.0273,  ...,  0.0025, -0.0255,  0.0250],\n",
      "        [-0.0142, -0.0167, -0.0047,  ...,  0.0153,  0.0062, -0.0089],\n",
      "        [-0.0237,  0.0151, -0.0324,  ..., -0.0296, -0.0143, -0.0013]],\n",
      "       requires_grad=True)\n"
     ]
    }
   ],
   "source": [
    "#use optimizer to step up the weights\n",
    "optimizer.step()\n",
    "print('Updated weights - ',model[0].weight)"
   ]
  },
  {
   "cell_type": "code",
   "execution_count": null,
   "metadata": {},
   "outputs": [],
   "source": []
  }
 ],
 "metadata": {
  "kernelspec": {
   "display_name": "Python 3",
   "language": "python",
   "name": "python3"
  },
  "language_info": {
   "codemirror_mode": {
    "name": "ipython",
    "version": 3
   },
   "file_extension": ".py",
   "mimetype": "text/x-python",
   "name": "python",
   "nbconvert_exporter": "python",
   "pygments_lexer": "ipython3",
   "version": "3.6.6"
  }
 },
 "nbformat": 4,
 "nbformat_minor": 2
}

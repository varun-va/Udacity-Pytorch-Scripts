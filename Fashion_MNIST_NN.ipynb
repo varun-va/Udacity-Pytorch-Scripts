{
 "cells": [
  {
   "cell_type": "code",
   "execution_count": 15,
   "metadata": {},
   "outputs": [],
   "source": [
    "%matplotlib inline\n",
    "%config InlineBackend.figure_format = 'retina'\n",
    "\n",
    "import numpy as np\n",
    "\n",
    "from torch import nn\n",
    "import torch.nn.functional as F\n",
    "from torch import optim\n",
    "\n",
    "import torch\n",
    "import matplotlib.pyplot as plt\n",
    "\n",
    "import helper\n",
    "\n",
    "from torchvision import datasets, transforms\n"
   ]
  },
  {
   "cell_type": "code",
   "execution_count": 16,
   "metadata": {},
   "outputs": [
    {
     "name": "stdout",
     "output_type": "stream",
     "text": [
      "Downloading http://fashion-mnist.s3-website.eu-central-1.amazonaws.com/train-images-idx3-ubyte.gz\n",
      "Downloading http://fashion-mnist.s3-website.eu-central-1.amazonaws.com/train-labels-idx1-ubyte.gz\n",
      "Downloading http://fashion-mnist.s3-website.eu-central-1.amazonaws.com/t10k-images-idx3-ubyte.gz\n",
      "Downloading http://fashion-mnist.s3-website.eu-central-1.amazonaws.com/t10k-labels-idx1-ubyte.gz\n",
      "Processing...\n",
      "Done!\n"
     ]
    }
   ],
   "source": [
    "#define a transform to normalize the data\n",
    "transform = transforms.Compose([transforms.ToTensor(),\n",
    "                               transforms.Normalize((0.5, 0.5,0.5),\n",
    "                                                   (0.5, 0.5, 0.5))\n",
    "                               ])\n",
    "#download the training set data\n",
    "trainset = datasets.FashionMNIST('images/F_MNIST_data/', download=True, train=True, transform=transform)\n",
    "trainloader = torch.utils.data.DataLoader(trainset,batch_size=64, shuffle=True)\n",
    "\n",
    "#download test set data\n",
    "testset = datasets.FashionMNIST('images/F_MNIST_data/', download=True, train = False, transform=transform)\n",
    "testloader = torch.utils.data.DataLoader(testset,batch_size=64, shuffle=True)"
   ]
  },
  {
   "cell_type": "code",
   "execution_count": 17,
   "metadata": {},
   "outputs": [
    {
     "data": {
      "image/png": "[encoded data removed]",
      "text/plain": [
       "<Figure size 432x288 with 1 Axes>"
      ]
     },
     "metadata": {
      "image/png": {
       "height": 233,
       "width": 233
      },
      "needs_background": "light"
     },
     "output_type": "display_data"
    }
   ],
   "source": [
    "# To see the image\n",
    "image, label = next(iter(trainloader))\n",
    "helper.imshow(image[0,:]);"
   ]
  },
  {
   "cell_type": "code",
   "execution_count": 18,
   "metadata": {},
   "outputs": [],
   "source": [
    "#Define the network architecture\n",
    "class Classifier(nn.Module):\n",
    "    def __init__(self):\n",
    "        super().__init__()\n",
    "        self.fc1 = nn.Linear(784,256)\n",
    "        self.fc2 = nn.Linear(256,128)\n",
    "        self.fc3 = nn.Linear(128,64)\n",
    "        self.fc4 = nn.Linear(64,10)\n",
    "        \n",
    "    def forward(self, x):\n",
    "        #flatten the image\n",
    "        x = x.view(x.shape[0],-1)\n",
    "        \n",
    "        x = F.relu(self.fc1(x))\n",
    "        x = F.relu(self.fc2(x))\n",
    "        x = F.relu(self.fc3(x))\n",
    "        x = F.log_softmax(self.fc4(x), dim = 1)\n",
    "        \n",
    "        return x"
   ]
  },
  {
   "cell_type": "markdown",
   "metadata": {},
   "source": [
    "he training pass is a fairly straightforward process:\n",
    "\n",
    "1)Make a forward pass through the network to get the logits\n",
    "\n",
    "2)Use the logits to calculate the loss\n",
    "\n",
    "3)Perform a backward pass through the network with loss.backward() to calculate the gradients\n",
    "\n",
    "4)Take a step with the optimizer to update the weights by adjusting the hyperparameters (hidden units, learning rate, etc), you should be able to get the training loss below 0.4."
   ]
  },
  {
   "cell_type": "code",
   "execution_count": 19,
   "metadata": {},
   "outputs": [],
   "source": [
    "#Create network, define optimizer and criterion\n",
    "model = Classifier()\n",
    "criterion = nn.NLLLoss()\n",
    "optimizer = optim.Adam(model.parameters(), lr = 0.003)\n"
   ]
  },
  {
   "cell_type": "code",
   "execution_count": 27,
   "metadata": {},
   "outputs": [
    {
     "name": "stdout",
     "output_type": "stream",
     "text": [
      "Training Loss: 0.30264503720885655\n",
      "Training Loss: 0.2906582502683978\n",
      "Training Loss: 0.28120878168038216\n",
      "Training Loss: 0.27368817785020066\n",
      "Training Loss: 0.2665044861688797\n",
      "Training Loss: 0.2605780007472552\n",
      "Training Loss: 0.2544576186718526\n",
      "Training Loss: 0.2503478907461741\n",
      "Training Loss: 0.24531214501557827\n",
      "Training Loss: 0.23867356491638525\n"
     ]
    }
   ],
   "source": [
    "#Train the network\n",
    "epochs = 10\n",
    "\n",
    "for e in range(epochs):\n",
    "    running_loss = 0\n",
    "    \n",
    "    for images, labels in trainloader:\n",
    "        \n",
    "        output = model(images)\n",
    "        loss = criterion(output, labels)\n",
    "        \n",
    "        optimizer.zero_grad()\n",
    "        loss.backward()\n",
    "        optimizer.step()\n",
    "        \n",
    "        running_loss += loss.item()\n",
    "        \n",
    "    else:\n",
    "        print(f'Training Loss: {running_loss/len(trainloader)}')\n"
   ]
  },
  {
   "cell_type": "code",
   "execution_count": 32,
   "metadata": {},
   "outputs": [
    {
     "data": {
      "image/png": "[encoded data removed]",
      "text/plain": [
       "<Figure size 432x648 with 2 Axes>"
      ]
     },
     "metadata": {
      "image/png": {
       "height": 206,
       "width": 423
      },
      "needs_background": "light"
     },
     "output_type": "display_data"
    }
   ],
   "source": [
    "#check the output\n",
    "images,labels = next(iter(testloader))\n",
    "img = images[1]\n",
    "\n",
    "\n",
    "#calculate probabilities (softmax) for img\n",
    "ps = torch.exp(model(img))\n",
    "\n",
    "#display the image\n",
    "helper.view_classify(img, ps,version='Fashion')"
   ]
  },
  {
   "cell_type": "code",
   "execution_count": 39,
   "metadata": {},
   "outputs": [
    {
     "data": {
      "text/plain": [
       "tensor([[0.0990, 0.1043, 0.0938, 0.0951, 0.0939, 0.0971, 0.1132, 0.0929, 0.1100,\n",
       "         0.1006],\n",
       "        [0.0959, 0.1064, 0.0917, 0.0965, 0.0952, 0.0975, 0.1169, 0.0916, 0.1088,\n",
       "         0.0993],\n",
       "        [0.0975, 0.1051, 0.0958, 0.0976, 0.0955, 0.0982, 0.1147, 0.0905, 0.1086,\n",
       "         0.0966],\n",
       "        [0.0973, 0.1053, 0.0930, 0.0945, 0.0975, 0.0972, 0.1142, 0.0914, 0.1090,\n",
       "         0.1006],\n",
       "        [0.0927, 0.1062, 0.0948, 0.0980, 0.0970, 0.1010, 0.1130, 0.0903, 0.1089,\n",
       "         0.0981],\n",
       "        [0.0952, 0.1045, 0.0946, 0.0968, 0.0976, 0.0988, 0.1157, 0.0909, 0.1066,\n",
       "         0.0992],\n",
       "        [0.0968, 0.1053, 0.0949, 0.0948, 0.0953, 0.0968, 0.1144, 0.0921, 0.1097,\n",
       "         0.1000],\n",
       "        [0.0963, 0.1056, 0.0922, 0.0998, 0.0940, 0.0970, 0.1156, 0.0915, 0.1073,\n",
       "         0.1007],\n",
       "        [0.0975, 0.1061, 0.0963, 0.0964, 0.0962, 0.0971, 0.1131, 0.0908, 0.1076,\n",
       "         0.0988],\n",
       "        [0.0966, 0.1048, 0.0948, 0.0956, 0.0943, 0.0981, 0.1132, 0.0919, 0.1117,\n",
       "         0.0989],\n",
       "        [0.0957, 0.1048, 0.0936, 0.0958, 0.0962, 0.0979, 0.1160, 0.0903, 0.1096,\n",
       "         0.1002],\n",
       "        [0.0972, 0.1054, 0.0937, 0.0970, 0.0963, 0.0973, 0.1140, 0.0904, 0.1092,\n",
       "         0.0994],\n",
       "        [0.0953, 0.1064, 0.0961, 0.0998, 0.0961, 0.0984, 0.1137, 0.0907, 0.1067,\n",
       "         0.0967],\n",
       "        [0.0972, 0.1050, 0.0961, 0.0933, 0.0958, 0.0996, 0.1149, 0.0917, 0.1089,\n",
       "         0.0976],\n",
       "        [0.0962, 0.1049, 0.0944, 0.0970, 0.0966, 0.0976, 0.1139, 0.0925, 0.1076,\n",
       "         0.0993],\n",
       "        [0.0979, 0.1049, 0.0945, 0.0966, 0.0937, 0.0957, 0.1121, 0.0912, 0.1108,\n",
       "         0.1026],\n",
       "        [0.0952, 0.1057, 0.0945, 0.0949, 0.0976, 0.0987, 0.1150, 0.0899, 0.1092,\n",
       "         0.0993],\n",
       "        [0.0968, 0.1067, 0.0943, 0.0980, 0.0955, 0.0982, 0.1141, 0.0903, 0.1067,\n",
       "         0.0993],\n",
       "        [0.0954, 0.1057, 0.0947, 0.0941, 0.0970, 0.0985, 0.1150, 0.0901, 0.1086,\n",
       "         0.1008],\n",
       "        [0.0984, 0.1068, 0.0940, 0.0936, 0.0949, 0.0977, 0.1184, 0.0917, 0.1063,\n",
       "         0.0981],\n",
       "        [0.0961, 0.1062, 0.0928, 0.0960, 0.0968, 0.0973, 0.1155, 0.0907, 0.1072,\n",
       "         0.1013],\n",
       "        [0.0968, 0.1060, 0.0946, 0.0948, 0.0965, 0.0979, 0.1144, 0.0913, 0.1087,\n",
       "         0.0990],\n",
       "        [0.0974, 0.1051, 0.0943, 0.0981, 0.0951, 0.0967, 0.1122, 0.0914, 0.1095,\n",
       "         0.1001],\n",
       "        [0.0967, 0.1056, 0.0945, 0.0952, 0.0951, 0.0976, 0.1155, 0.0925, 0.1068,\n",
       "         0.1004],\n",
       "        [0.0953, 0.1061, 0.0930, 0.0953, 0.0948, 0.0992, 0.1166, 0.0898, 0.1095,\n",
       "         0.1004],\n",
       "        [0.0973, 0.1031, 0.0969, 0.0946, 0.0950, 0.0984, 0.1139, 0.0917, 0.1113,\n",
       "         0.0979],\n",
       "        [0.0970, 0.1076, 0.0928, 0.0973, 0.0955, 0.0961, 0.1140, 0.0914, 0.1078,\n",
       "         0.1006],\n",
       "        [0.0972, 0.1031, 0.0937, 0.0952, 0.0950, 0.0983, 0.1135, 0.0935, 0.1102,\n",
       "         0.1002],\n",
       "        [0.0978, 0.1054, 0.0929, 0.0969, 0.0952, 0.0957, 0.1143, 0.0915, 0.1090,\n",
       "         0.1013],\n",
       "        [0.0981, 0.1053, 0.0967, 0.0958, 0.0947, 0.0982, 0.1150, 0.0917, 0.1083,\n",
       "         0.0961],\n",
       "        [0.0986, 0.1056, 0.0953, 0.0971, 0.0942, 0.0968, 0.1132, 0.0921, 0.1081,\n",
       "         0.0989],\n",
       "        [0.0962, 0.1074, 0.0938, 0.0942, 0.0940, 0.0981, 0.1147, 0.0919, 0.1090,\n",
       "         0.1006],\n",
       "        [0.0982, 0.1062, 0.0931, 0.0955, 0.0938, 0.0977, 0.1119, 0.0927, 0.1092,\n",
       "         0.1018],\n",
       "        [0.0972, 0.1047, 0.0940, 0.0972, 0.0956, 0.0977, 0.1123, 0.0919, 0.1099,\n",
       "         0.0994],\n",
       "        [0.0957, 0.1057, 0.0951, 0.0965, 0.0963, 0.0992, 0.1114, 0.0910, 0.1100,\n",
       "         0.0991],\n",
       "        [0.0966, 0.1055, 0.0946, 0.0979, 0.0961, 0.0980, 0.1132, 0.0907, 0.1078,\n",
       "         0.0997],\n",
       "        [0.0952, 0.1070, 0.0928, 0.0957, 0.0980, 0.0987, 0.1157, 0.0902, 0.1072,\n",
       "         0.0994],\n",
       "        [0.0961, 0.1052, 0.0935, 0.0995, 0.0966, 0.0984, 0.1129, 0.0913, 0.1060,\n",
       "         0.1005],\n",
       "        [0.0941, 0.1052, 0.0959, 0.0981, 0.0961, 0.1002, 0.1121, 0.0906, 0.1070,\n",
       "         0.1006],\n",
       "        [0.0943, 0.1049, 0.0937, 0.0968, 0.0962, 0.1007, 0.1133, 0.0910, 0.1088,\n",
       "         0.1004],\n",
       "        [0.0963, 0.1053, 0.0958, 0.0954, 0.0959, 0.0979, 0.1141, 0.0927, 0.1080,\n",
       "         0.0985],\n",
       "        [0.0961, 0.1061, 0.0941, 0.0939, 0.0941, 0.0980, 0.1165, 0.0911, 0.1096,\n",
       "         0.1004],\n",
       "        [0.0987, 0.1045, 0.0945, 0.0947, 0.0949, 0.0971, 0.1141, 0.0922, 0.1112,\n",
       "         0.0980],\n",
       "        [0.0962, 0.1058, 0.0942, 0.0937, 0.0944, 0.0979, 0.1151, 0.0916, 0.1101,\n",
       "         0.1010],\n",
       "        [0.0978, 0.1051, 0.0945, 0.0960, 0.0936, 0.0964, 0.1140, 0.0911, 0.1112,\n",
       "         0.1005],\n",
       "        [0.0949, 0.1065, 0.0930, 0.0944, 0.0961, 0.0998, 0.1148, 0.0908, 0.1094,\n",
       "         0.1003],\n",
       "        [0.0973, 0.1057, 0.0922, 0.0964, 0.0965, 0.0966, 0.1142, 0.0916, 0.1073,\n",
       "         0.1022],\n",
       "        [0.0969, 0.1059, 0.0957, 0.0976, 0.0956, 0.0964, 0.1127, 0.0913, 0.1080,\n",
       "         0.1000],\n",
       "        [0.0947, 0.1048, 0.0950, 0.0960, 0.0951, 0.0984, 0.1151, 0.0904, 0.1094,\n",
       "         0.1013],\n",
       "        [0.0977, 0.1063, 0.0953, 0.0985, 0.0944, 0.0989, 0.1144, 0.0916, 0.1064,\n",
       "         0.0966],\n",
       "        [0.0969, 0.1048, 0.0914, 0.0936, 0.0963, 0.0985, 0.1163, 0.0910, 0.1096,\n",
       "         0.1015],\n",
       "        [0.0950, 0.1055, 0.0942, 0.0953, 0.0952, 0.0980, 0.1151, 0.0901, 0.1095,\n",
       "         0.1021],\n",
       "        [0.0972, 0.1041, 0.0945, 0.0958, 0.0955, 0.0972, 0.1131, 0.0931, 0.1090,\n",
       "         0.1005],\n",
       "        [0.0961, 0.1059, 0.0950, 0.0956, 0.0970, 0.0975, 0.1136, 0.0908, 0.1084,\n",
       "         0.1000],\n",
       "        [0.0963, 0.1062, 0.0935, 0.0978, 0.0959, 0.0984, 0.1124, 0.0912, 0.1090,\n",
       "         0.0992],\n",
       "        [0.0965, 0.1058, 0.0958, 0.0973, 0.0959, 0.0973, 0.1152, 0.0899, 0.1077,\n",
       "         0.0987],\n",
       "        [0.0943, 0.1063, 0.0932, 0.0974, 0.0959, 0.0985, 0.1132, 0.0902, 0.1095,\n",
       "         0.1017],\n",
       "        [0.0966, 0.1043, 0.0937, 0.0948, 0.0955, 0.0974, 0.1128, 0.0920, 0.1099,\n",
       "         0.1030],\n",
       "        [0.0972, 0.1045, 0.0939, 0.0946, 0.0950, 0.0972, 0.1139, 0.0926, 0.1129,\n",
       "         0.0982],\n",
       "        [0.0958, 0.1059, 0.0937, 0.0953, 0.0964, 0.0983, 0.1138, 0.0933, 0.1101,\n",
       "         0.0973],\n",
       "        [0.0989, 0.1042, 0.0950, 0.0944, 0.0954, 0.0969, 0.1135, 0.0929, 0.1089,\n",
       "         0.1000],\n",
       "        [0.0949, 0.1060, 0.0953, 0.0998, 0.0961, 0.0984, 0.1128, 0.0903, 0.1065,\n",
       "         0.0999],\n",
       "        [0.0950, 0.1063, 0.0941, 0.0999, 0.0953, 0.0996, 0.1118, 0.0918, 0.1071,\n",
       "         0.0993],\n",
       "        [0.0969, 0.1067, 0.0952, 0.0984, 0.0953, 0.0976, 0.1155, 0.0896, 0.1065,\n",
       "         0.0983]], grad_fn=<ExpBackward>)"
      ]
     },
     "execution_count": 39,
     "metadata": {},
     "output_type": "execute_result"
    }
   ],
   "source": [
    "#validation and inference\n",
    "model = Classifier()\n",
    "images,labels = next(iter(testloader))\n",
    "\n",
    "ps = torch.exp(model(images))\n",
    "ps"
   ]
  },
  {
   "cell_type": "code",
   "execution_count": 46,
   "metadata": {},
   "outputs": [],
   "source": [
    "top_p, top_class = ps.topk(1, dim=1)\n"
   ]
  },
  {
   "cell_type": "code",
   "execution_count": 58,
   "metadata": {},
   "outputs": [],
   "source": [
    "#print(top_p, top_class)"
   ]
  },
  {
   "cell_type": "code",
   "execution_count": 52,
   "metadata": {},
   "outputs": [
    {
     "data": {
      "text/plain": [
       "torch.Size([64])"
      ]
     },
     "execution_count": 52,
     "metadata": {},
     "output_type": "execute_result"
    }
   ],
   "source": [
    "labels.shape"
   ]
  },
  {
   "cell_type": "code",
   "execution_count": 54,
   "metadata": {},
   "outputs": [
    {
     "data": {
      "text/plain": [
       "tensor([0, 8, 1, 8, 5, 0, 3, 5, 3, 6, 9, 6, 3, 6, 4, 6, 2, 6, 4, 4, 9, 2, 0, 2,\n",
       "        7, 1, 5, 6, 0, 1, 1, 8, 8, 1, 4, 0, 7, 5, 5, 5, 3, 4, 3, 4, 6, 8, 5, 3,\n",
       "        7, 1, 8, 7, 3, 8, 2, 1, 7, 4, 1, 0, 6, 7, 5, 1])"
      ]
     },
     "execution_count": 54,
     "metadata": {},
     "output_type": "execute_result"
    }
   ],
   "source": [
    "labels"
   ]
  },
  {
   "cell_type": "code",
   "execution_count": 56,
   "metadata": {},
   "outputs": [],
   "source": [
    "equals = top_class == labels.view(*top_class.shape)"
   ]
  },
  {
   "cell_type": "markdown",
   "metadata": {},
   "source": [
    "**Exercise**: \n",
    "\n",
    "Implement the validation loop below."
   ]
  },
  {
   "cell_type": "code",
   "execution_count": null,
   "metadata": {},
   "outputs": [],
   "source": []
  }
 ],
 "metadata": {
  "kernelspec": {
   "display_name": "Python 3",
   "language": "python",
   "name": "python3"
  },
  "language_info": {
   "codemirror_mode": {
    "name": "ipython",
    "version": 3
   },
   "file_extension": ".py",
   "mimetype": "text/x-python",
   "name": "python",
   "nbconvert_exporter": "python",
   "pygments_lexer": "ipython3",
   "version": "3.6.6"
  }
 },
 "nbformat": 4,
 "nbformat_minor": 2
}
